{
 "cells": [
  {
   "cell_type": "markdown",
   "id": "ed8b58ee",
   "metadata": {},
   "source": [
    "1. What is your definition of clustering? What are a few clustering algorithms you might think of ?\n",
    "Ans: Clustering is the task of dividing the population or data points into a number of groups such that data points in the same groups are more similar to other data points in the same group and dissimilar to the data points in other groups."
   ]
  },
  {
   "cell_type": "markdown",
   "id": "1dd02275",
   "metadata": {},
   "source": [
    "2. What are some of the most popular clustering algorithm applications ?\n",
    "Ans: K-means clustering is the most commonly used clustering algorithm. It's a centroid-based algorithm and the simplest unsupervised learning algorithm. This algorithm tries to minimize the variance of data points within a cluster. It's also how most people are introduced to unsupervised machine learning."
   ]
  },
  {
   "cell_type": "markdown",
   "id": "d339bfad",
   "metadata": {},
   "source": [
    "3. When using K-Means, describe two strategies for selecting the appropriate number of clusters ?\n",
    "Ans: K-means clustering algorithm can be significantly improved by using a better initialization technique, and by repeating (re-starting) the algorithm. When the data has overlapping clusters, k-means can improve the results of the initialization technique."
   ]
  },
  {
   "cell_type": "markdown",
   "id": "6898d8f0",
   "metadata": {},
   "source": [
    " 4. What is back propagation and how does it work? Why would you do it, and how would you do it ?\n",
    "\n",
    "ANS:\n",
    "Backpropagation (backward propagation) is an important mathematical tool for improving the accuracy of predictions in data mining and machine learning.\n",
    "Backpropagation algorithm consists of two phases:\n",
    "\n",
    "The forward pass where our inputs are passed through the network and output predictions obtained (also known as the propagation phase).\n",
    "The backward pass where we compute the gradient of the loss function at the final layer (i.e., predictions layer) of the network and use this gradient to recursively apply the chain rule to update the weights in our network (also known as the weight update phase)."
   ]
  },
  {
   "cell_type": "markdown",
   "id": "951350b6",
   "metadata": {},
   "source": [
    "5. Provide two examples of clustering algorithms that can handle large datasets. And two that look for high-density areas ?\n",
    "Ans: The most commonly used algorithm in clustering are partitioning, hierarchical, grid based, density based, and model based algorithms"
   ]
  },
  {
   "cell_type": "markdown",
   "id": "9d3befb8",
   "metadata": {},
   "source": [
    "6. Can you think of a scenario in which constructive learning will be advantageous? How can you go about putting it into action ?\n",
    "Ans: In Constructivist learning, the traditional classroom learning procedure is flipped. Instead of a teacher informing a child about a subject and constructing a meaning for them, in constructivist learning, children construct their own meanings. Now, this may not be the best approach for every learning environment, but it can be tremendously helpful at home"
   ]
  },
  {
   "cell_type": "markdown",
   "id": "ed25c11c",
   "metadata": {},
   "source": [
    "7. How do you tell the difference between anomaly and novelty detection?\n",
    "Ans: In \"novelty detection\", you have a data set that contains only good data, and you're trying to determine whether new observations fit within the existing data set. In \"outlier detection\", the data may contain outliers, which you want to identify."
   ]
  },
  {
   "cell_type": "markdown",
   "id": "3f1f3001",
   "metadata": {},
   "source": [
    "8. What is a Gaussian mixture, and how does it work? What are some of the things you can do about it?\n",
    "Ans: A Gaussian Mixture is a function that is comprised of several Gaussians, each identified by k ∈ {1,…, K}, where K is the number of clusters of our dataset. Each Gaussian k in the mixture is comprised of the following parameters: A mean μ that defines its centre. A covariance Σ that defines its width"
   ]
  },
  {
   "cell_type": "markdown",
   "id": "6e18f068",
   "metadata": {},
   "source": [
    "9. When using a Gaussian mixture model, can you name two techniques for determining the correct number of clusters?\n",
    "Ans: An approach is to find the clusters using soft clustering methods and then see if they are gaussian. If they are then you can apply a GMM model which represents the whole dataset."
   ]
  }
 ],
 "metadata": {
  "kernelspec": {
   "display_name": "Python 3",
   "language": "python",
   "name": "python3"
  },
  "language_info": {
   "codemirror_mode": {
    "name": "ipython",
    "version": 3
   },
   "file_extension": ".py",
   "mimetype": "text/x-python",
   "name": "python",
   "nbconvert_exporter": "python",
   "pygments_lexer": "ipython3",
   "version": "3.8.8"
  }
 },
 "nbformat": 4,
 "nbformat_minor": 5
}
